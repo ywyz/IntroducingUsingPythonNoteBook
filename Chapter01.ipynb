{
 "cells": [
  {
   "cell_type": "markdown",
   "metadata": {},
   "source": [
    "# Python语言程序设计\n",
    "\n",
    "## Part 1 程序设计基础\n",
    "\n",
    "### Chapter01 计算机、程序和Python概述\n",
    "\n",
    "\n",
    "#### 1.2节 什么是计算机？\n",
    "\n",
    "    1.1 什么是硬件？什么是软件？\n",
    "\n",
    "       硬件包括计算机上能看到的物理元素，而软件提供控制硬件并让硬件执行特定任务的不可见的指令。\n",
    "\n",
    "    1.2 罗列出计算机的五个主要硬件组件\n",
    "\n",
    "       CPU、 内存、存储设备、输入设备、输出设备、通信设备\n",
    "\n",
    "    1.3 缩写“CPU”表示什么？\n",
    "\n",
    "       CPU即中央处理器，计算机的大脑\n",
    "\n",
    "    1.4 CPU的速度使用什么单位来表示\n",
    "\n",
    "      时钟的计量单位是赫兹(hertz, Hz), 1赫兹相当于一个脉冲。20世界90年代计算机的时钟速度是以兆赫（MHz）计算。（1 Mh z = 1000000 Hz) 。 现在计算机的时钟速度通常是以千兆赫（gigaherts， GHz）来表示。\n",
    "\n",
    "    1.5 比特是什么？ 字节是什么？\n",
    "\n",
    "        比特是一位二进制数 0或1， 字节是计算机中最小的存储单位。1字节等于8比特。\n",
    "\n",
    "    1.6 内存是干什么的？ RAM表示什么？ 为什么内存被称为RAM？\n",
    "\n",
    "       内存是计算机执行程序的工作区，程序和数据被CPU执行之前必须放在计算机的内存之中。\n",
    "       RAM是随机访问内存，因为可以以任意顺序访问内存中的字节，所以内存又叫RAM。\n",
    "\n",
    "\n",
    "    1.7 用于表示内存大小的单位是什么？\n",
    "    \n",
    "        内存以字节为单位。\n",
    "        \n",
    "    1.8 用于表示磁盘大小的单位是什么？\n",
    "          \n",
    "        磁盘以字节为单位\n",
    "       \n",
    "    1.9 内存和存储设备最主要的区别是什么？\n",
    "    \n",
    "        内存中的存储数据并不稳定，一旦断开系统电源，所有保存在内存中的信息都会丢失。程序和数据被永久保存在存储设备上，当计算机真的要用到它们的时候再被移动到内存中，内存的执行速度比永久存储设备快得多。"
   ]
  },
  {
   "cell_type": "markdown",
   "metadata": {
    "cell_style": "center",
    "heading_collapsed": true,
    "hide_input": true
   },
   "source": [
    "#### 1.3节 程序设计语言\n",
    "\n",
    "    1.10 CPU能够理解的是什么语言？\n",
    "        \n",
    "        CPU能够理解的是以二进制代码存在的机器语言。\n",
    "       \n",
    "    1.11 什么是汇编语言？\n",
    "        \n",
    "        机器语言的替代品，用简短的描述性单词来表示每个机器语言指令，是一种低级语言。\n",
    "     \n",
    "    1.12 什么是汇编器？\n",
    "        \n",
    "        将汇编语言程序翻译成机器语言代码的程序\n",
    "        \n",
    "    1.13 什么是高级程序设计语言？\n",
    "        \n",
    "        独立于平台，可以在不同类型的机器上运行。类似英语，易于学习和使用。\n",
    "        \n",
    "    1.14 什么是源程序？\n",
    "        \n",
    "        使用高级语言编写的程序称为源程序或源代码。\n",
    "        \n",
    "    1.15 什么是解释器？\n",
    "        \n",
    "        解释器从源代码中读取一条语句，将它翻译成机器代码或是虚拟机代码，然后立即执行它。\n",
    "        \n",
    "    1.16 什么是编译器？\n",
    "        \n",
    "        编译器将整个源代码翻译成一个机器代码文件，然后执行这个机器代码文件。\n",
    "      \n",
    "    1.17 解释语言和编译语言之间的区别是什么？\n",
    "    \n",
    "        解释语言使用解释器从源代码中读取一条语句，将它翻译成机器代码或是虚拟机代码，然后立即执行它。\n",
    "        编译语言使用编译器将整个源代码翻译成一个机器代码文件，然后执行这个机器代码文件。\n",
    "        \n",
    "        \n",
    "    "
   ]
  },
  {
   "cell_type": "markdown",
   "metadata": {},
   "source": [
    "#### 1.4节  操作系统\n",
    "    1.18 什么是操作系统？罗列出一些流行的操作系统。\n",
    "    \n",
    "        操作系统（OS）是计算机上运行的最重要的程序，操作系统管理和控制计算机的动作。\n",
    "        目前流行的操作系统有Windows Mac OS\n",
    "        Linux Unix\n",
    "        \n",
    "    1.19 操作系统的主要任务是什么？\n",
    "    \n",
    "        1.控制和管理系统行为。\n",
    "        2.调配和分配系统资源。\n",
    "        3.调度操作。\n",
    "        \n",
    "    1.20 什么是多程序设计、多线程和多进程？\n",
    "    \n",
    "        多程序设计允许多个程序共享同一个CPU同步运行。\n",
    "        多线程允许单个程序同时执行多个任务。\n",
    "        多进程，或者叫并行处理，使用两个或更多处理器一起完成同时发生的多个子任务，然后将这些子任务的解决方案组合在一起，获取整个任务的解决方案。"
   ]
  },
  {
   "cell_type": "markdown",
   "metadata": {},
   "source": [
    "#### 1.5 节 Python的历史\n",
    "    1.21 Python是解释性的。这是什么意思？\n",
    "    \n",
    "        Python代码是被解释器翻译和执行的，每次一句。\n",
    "        \n",
    "    1.22 使用Python 2编写的程序可以在Python 3 中运行吗？\n",
    "    \n",
    "        不行， Python 3 不向后兼容Python 2。但提供了工具将Python 2 转换成Python 3。\n",
    "    \n",
    "    1.23 使用Python 3编写的程序可以在Python 2 中运行吗？\n",
    "    \n",
    "        不行。"
   ]
  },
  {
   "cell_type": "markdown",
   "metadata": {},
   "source": [
    "#### 1.6节 开始使用Python\n",
    "    1.24 可以使用两种语言运行Python。解释这两种模式。\n",
    "    \n",
    "        一、交互模式运行Python。\n",
    "            在语句提示符>>>后输入Python语句，语句会立刻执行，但不会保存。\n",
    "        二、脚本模式运行Python\n",
    "            使用文本编辑器或者IDE来创建Python脚本文件。\n",
    "         \n",
    "    1.25 Python区分大小写吗？\n",
    "     \n",
    "         区分大小写\n",
    "     \n",
    "    1.26 按照惯例，Python源文件的扩展名是什么？\n",
    "        .py\n",
    "        \n",
    "    1.27 运行Python源文件的命令是什么？\n",
    "\n",
    "`python filename.py`\n",
    "\n",
    "    1.28 什么是注释？ 如何表示注释航和注释段？\n",
    "        \n",
    "        注释标注着该程序是什么以及这个程序是如何构建的。有助于程序员理解程序，同时因为不是程序设计语句，所以可以被解释器忽略。\n",
    "        注释行 在注释开始时使用#号\n",
    "        注释段 在段落开始和结束时使用'''\n",
    "        \n",
    "    1.29 在控制台上显示消息“Hello World”的语句是什么？\n",
    "        \n",
    "        print(\"Hello world\")\n",
    "\n",
    "    1.30 找出下面代码中的错误\n",
    "```Python \n",
    "# Display two messages\n",
    "  print(\"Welcome to Python\")\n",
    " print(\"Python is fun\").\n",
    "```\n",
    "        第二行print()函数前多一个缩进\n",
    "        第三行末尾多一个.\n",
    "        \n",
    "    1.31 给出以下代码的输出结果\n",
    "```Python\n",
    "print(\"3.5 * 4 / 2 - 2.5 is\")\n",
    "print(3.5 * 4 / 2 - 2.5)\n",
    "```\n",
    "        3.5 * 4 / 2 - 2.5 is\n",
    "        4.5"
   ]
  },
  {
   "cell_type": "code",
   "execution_count": 9,
   "metadata": {
    "ExecuteTime": {
     "end_time": "2019-11-19T11:41:29.501254Z",
     "start_time": "2019-11-19T11:41:29.493019Z"
    }
   },
   "outputs": [
    {
     "name": "stdout",
     "output_type": "stream",
     "text": [
      "Welcome to Python\n",
      "Python is fun\n"
     ]
    }
   ],
   "source": [
    "### 程序清单1-1 Welcome.py\n",
    "# Display two messages\n",
    "print(\"Welcome to Python\")\n",
    "print(\"Python is fun\")"
   ]
  },
  {
   "cell_type": "code",
   "execution_count": 10,
   "metadata": {
    "ExecuteTime": {
     "end_time": "2019-11-19T11:41:29.520813Z",
     "start_time": "2019-11-19T11:41:29.512063Z"
    }
   },
   "outputs": [
    {
     "name": "stdout",
     "output_type": "stream",
     "text": [
      "Welcome to Python\n",
      "Python is fun\n",
      "Problem Driven\n"
     ]
    }
   ],
   "source": [
    "### 程序清单1-2 WelcomeWithThreeMessages.py\n",
    "# Display three messages\n",
    "print(\"Welcome to Python\")\n",
    "print(\"Python is fun\")\n",
    "print(\"Problem Driven\")"
   ]
  },
  {
   "cell_type": "code",
   "execution_count": 11,
   "metadata": {
    "ExecuteTime": {
     "end_time": "2019-11-19T11:41:29.546610Z",
     "start_time": "2019-11-19T11:41:29.530651Z"
    },
    "run_control": {
     "marked": true
    }
   },
   "outputs": [
    {
     "name": "stdout",
     "output_type": "stream",
     "text": [
      "16.5\n"
     ]
    },
    {
     "ename": "TypeError",
     "evalue": "unsupported operand type(s) for /: 'NoneType' and 'float'",
     "output_type": "error",
     "traceback": [
      "\u001b[0;31m---------------------------------------------------------------------------\u001b[0m",
      "\u001b[0;31mTypeError\u001b[0m                                 Traceback (most recent call last)",
      "\u001b[0;32m<ipython-input-11-e5852513ce00>\u001b[0m in \u001b[0;36m<module>\u001b[0;34m\u001b[0m\n\u001b[1;32m      1\u001b[0m \u001b[0;31m### 程序清单 1-3 ComputeExpression.py\u001b[0m\u001b[0;34m\u001b[0m\u001b[0;34m\u001b[0m\u001b[0;34m\u001b[0m\u001b[0m\n\u001b[1;32m      2\u001b[0m \u001b[0;31m# Compute expression\u001b[0m\u001b[0;34m\u001b[0m\u001b[0;34m\u001b[0m\u001b[0;34m\u001b[0m\u001b[0m\n\u001b[0;32m----> 3\u001b[0;31m \u001b[0mprint\u001b[0m\u001b[0;34m(\u001b[0m\u001b[0;36m10.5\u001b[0m \u001b[0;34m+\u001b[0m \u001b[0;36m2\u001b[0m \u001b[0;34m*\u001b[0m \u001b[0;36m3\u001b[0m\u001b[0;34m)\u001b[0m \u001b[0;34m/\u001b[0m \u001b[0;34m(\u001b[0m\u001b[0;36m45\u001b[0m \u001b[0;34m-\u001b[0m \u001b[0;36m3.5\u001b[0m\u001b[0;34m)\u001b[0m\u001b[0;34m\u001b[0m\u001b[0;34m\u001b[0m\u001b[0m\n\u001b[0m",
      "\u001b[0;31mTypeError\u001b[0m: unsupported operand type(s) for /: 'NoneType' and 'float'"
     ]
    }
   ],
   "source": [
    "### 程序清单 1-3 ComputeExpression.py\n",
    "# Compute expression\n",
    "print(10.5 + 2 * 3) / (45 - 3.5)"
   ]
  },
  {
   "cell_type": "markdown",
   "metadata": {},
   "source": [
    "#### 1.8 节 程序设计错误\n",
    "    1.32 三种程序错误是什么？\n",
    "    \n",
    "        1.语法错误\n",
    "        2.运行时错误\n",
    "        3.逻辑错误\n",
    "        \n",
    "    1.33 如果忘记在字符串后面加有引号，将会产生什么错误？\n",
    "    \n",
    "        语法错误\n",
    "        \n",
    "    1.34 如果程序需要从文件中读取数据，但是这个文件并不存在，那么当你运行这个程序时就会导致错误。这个错误是哪类错误？\n",
    "    \n",
    "        运行时错误\n",
    "        \n",
    "    1.35 假设你编写一个程序计算一个矩形的周长，而你写错了程序导致它计算成矩形的面积。这个错误是哪类错误？\n",
    "        \n",
    "        逻辑错误"
   ]
  },
  {
   "cell_type": "code",
   "execution_count": 12,
   "metadata": {
    "ExecuteTime": {
     "end_time": "2019-11-19T11:41:29.662828Z",
     "start_time": "2019-11-19T11:41:29.654636Z"
    }
   },
   "outputs": [
    {
     "name": "stdout",
     "output_type": "stream",
     "text": [
      "Fahrenheit 35 is Celesius degree \n",
      "-12.555555555555554\n"
     ]
    }
   ],
   "source": [
    "### 程序清单 1-4 ShowLogicErrors.py\n",
    "# Convert Fahrenheit to Celesius\n",
    "print(\"Fahrenheit 35 is Celesius degree \")\n",
    "print(5 / 9 * 35 - 32)"
   ]
  },
  {
   "cell_type": "markdown",
   "metadata": {},
   "source": [
    "#### 1.9 开始学习图形化程序设计\n",
    "    1.36 如何导入Turtle模块？\n",
    "    \n",
    "        import turtle \n",
    "        \n",
    "    1.37 如何在Turtle中显示文本？\n",
    "    \n",
    "        turtle.write(\"strings\")\n",
    "     \n",
    "    1.38 如何向前移动笔？\n",
    "        \n",
    "        turtle.forward(length)\n",
    "        \n",
    "    1.39 如何设置新颜色？\n",
    "    \n",
    "        turtle.color(\"color\")\n",
    "        \n",
    "    1.40 不绘制任何东西时如何移动笔?\n",
    "        \n",
    "        turtle.penup()\n",
    "        turtle.goto(x,y)\n",
    "        turtle.pendown()\n",
    "        \n",
    "    1.41 如何绘制一个圆？\n",
    "        \n",
    "        turtle.circle(length)\n",
    "        \n",
    "    1.42 程序清单1-5中第三行的turtle.done()的目的是什么？\n",
    "        \n",
    "       让程序暂停直到用户关闭Python Turtle图形化程序， 给用户时间来查看图形。没有这一行，图形窗口会在程序完成时立刻关闭。"
   ]
  },
  {
   "cell_type": "code",
   "execution_count": 13,
   "metadata": {
    "ExecuteTime": {
     "end_time": "2019-11-19T11:44:24.325275Z",
     "start_time": "2019-11-19T11:44:23.755817Z"
    }
   },
   "outputs": [
    {
     "ename": "TclError",
     "evalue": "no display name and no $DISPLAY environment variable",
     "output_type": "error",
     "traceback": [
      "\u001b[0;31m---------------------------------------------------------------------------\u001b[0m",
      "\u001b[0;31mTclError\u001b[0m                                  Traceback (most recent call last)",
      "\u001b[0;32m<ipython-input-13-faf83583ce11>\u001b[0m in \u001b[0;36m<module>\u001b[0;34m\u001b[0m\n\u001b[1;32m      2\u001b[0m \u001b[0;32mimport\u001b[0m \u001b[0mturtle\u001b[0m\u001b[0;34m\u001b[0m\u001b[0;34m\u001b[0m\u001b[0m\n\u001b[1;32m      3\u001b[0m \u001b[0;34m\u001b[0m\u001b[0m\n\u001b[0;32m----> 4\u001b[0;31m \u001b[0mturtle\u001b[0m\u001b[0;34m.\u001b[0m\u001b[0mcolor\u001b[0m\u001b[0;34m(\u001b[0m\u001b[0;34m\"blue\"\u001b[0m\u001b[0;34m)\u001b[0m\u001b[0;34m\u001b[0m\u001b[0;34m\u001b[0m\u001b[0m\n\u001b[0m\u001b[1;32m      5\u001b[0m \u001b[0mturtle\u001b[0m\u001b[0;34m.\u001b[0m\u001b[0mpenup\u001b[0m\u001b[0;34m(\u001b[0m\u001b[0;34m)\u001b[0m\u001b[0;34m\u001b[0m\u001b[0;34m\u001b[0m\u001b[0m\n\u001b[1;32m      6\u001b[0m \u001b[0mturtle\u001b[0m\u001b[0;34m.\u001b[0m\u001b[0mgoto\u001b[0m\u001b[0;34m(\u001b[0m\u001b[0;34m-\u001b[0m\u001b[0;36m100\u001b[0m\u001b[0;34m,\u001b[0m \u001b[0;34m-\u001b[0m\u001b[0;36m25\u001b[0m\u001b[0;34m)\u001b[0m\u001b[0;34m\u001b[0m\u001b[0;34m\u001b[0m\u001b[0m\n",
      "\u001b[0;32m/usr/lib/python3.7/turtle.py\u001b[0m in \u001b[0;36mcolor\u001b[0;34m(*args)\u001b[0m\n",
      "\u001b[0;32m/usr/lib/python3.7/turtle.py\u001b[0m in \u001b[0;36m__init__\u001b[0;34m(self, shape, undobuffersize, visible)\u001b[0m\n\u001b[1;32m   3810\u001b[0m                  visible=_CFG[\"visible\"]):\n\u001b[1;32m   3811\u001b[0m         \u001b[0;32mif\u001b[0m \u001b[0mTurtle\u001b[0m\u001b[0;34m.\u001b[0m\u001b[0m_screen\u001b[0m \u001b[0;32mis\u001b[0m \u001b[0;32mNone\u001b[0m\u001b[0;34m:\u001b[0m\u001b[0;34m\u001b[0m\u001b[0;34m\u001b[0m\u001b[0m\n\u001b[0;32m-> 3812\u001b[0;31m             \u001b[0mTurtle\u001b[0m\u001b[0;34m.\u001b[0m\u001b[0m_screen\u001b[0m \u001b[0;34m=\u001b[0m \u001b[0mScreen\u001b[0m\u001b[0;34m(\u001b[0m\u001b[0;34m)\u001b[0m\u001b[0;34m\u001b[0m\u001b[0;34m\u001b[0m\u001b[0m\n\u001b[0m\u001b[1;32m   3813\u001b[0m         RawTurtle.__init__(self, Turtle._screen,\n\u001b[1;32m   3814\u001b[0m                            \u001b[0mshape\u001b[0m\u001b[0;34m=\u001b[0m\u001b[0mshape\u001b[0m\u001b[0;34m,\u001b[0m\u001b[0;34m\u001b[0m\u001b[0;34m\u001b[0m\u001b[0m\n",
      "\u001b[0;32m/usr/lib/python3.7/turtle.py\u001b[0m in \u001b[0;36mScreen\u001b[0;34m()\u001b[0m\n\u001b[1;32m   3660\u001b[0m     else return the existing one.\"\"\"\n\u001b[1;32m   3661\u001b[0m     \u001b[0;32mif\u001b[0m \u001b[0mTurtle\u001b[0m\u001b[0;34m.\u001b[0m\u001b[0m_screen\u001b[0m \u001b[0;32mis\u001b[0m \u001b[0;32mNone\u001b[0m\u001b[0;34m:\u001b[0m\u001b[0;34m\u001b[0m\u001b[0;34m\u001b[0m\u001b[0m\n\u001b[0;32m-> 3662\u001b[0;31m         \u001b[0mTurtle\u001b[0m\u001b[0;34m.\u001b[0m\u001b[0m_screen\u001b[0m \u001b[0;34m=\u001b[0m \u001b[0m_Screen\u001b[0m\u001b[0;34m(\u001b[0m\u001b[0;34m)\u001b[0m\u001b[0;34m\u001b[0m\u001b[0;34m\u001b[0m\u001b[0m\n\u001b[0m\u001b[1;32m   3663\u001b[0m     \u001b[0;32mreturn\u001b[0m \u001b[0mTurtle\u001b[0m\u001b[0;34m.\u001b[0m\u001b[0m_screen\u001b[0m\u001b[0;34m\u001b[0m\u001b[0;34m\u001b[0m\u001b[0m\n\u001b[1;32m   3664\u001b[0m \u001b[0;34m\u001b[0m\u001b[0m\n",
      "\u001b[0;32m/usr/lib/python3.7/turtle.py\u001b[0m in \u001b[0;36m__init__\u001b[0;34m(self)\u001b[0m\n\u001b[1;32m   3676\u001b[0m         \u001b[0;31m# preserved (perhaps by passing it as an optional parameter)\u001b[0m\u001b[0;34m\u001b[0m\u001b[0;34m\u001b[0m\u001b[0;34m\u001b[0m\u001b[0m\n\u001b[1;32m   3677\u001b[0m         \u001b[0;32mif\u001b[0m \u001b[0m_Screen\u001b[0m\u001b[0;34m.\u001b[0m\u001b[0m_root\u001b[0m \u001b[0;32mis\u001b[0m \u001b[0;32mNone\u001b[0m\u001b[0;34m:\u001b[0m\u001b[0;34m\u001b[0m\u001b[0;34m\u001b[0m\u001b[0m\n\u001b[0;32m-> 3678\u001b[0;31m             \u001b[0m_Screen\u001b[0m\u001b[0;34m.\u001b[0m\u001b[0m_root\u001b[0m \u001b[0;34m=\u001b[0m \u001b[0mself\u001b[0m\u001b[0;34m.\u001b[0m\u001b[0m_root\u001b[0m \u001b[0;34m=\u001b[0m \u001b[0m_Root\u001b[0m\u001b[0;34m(\u001b[0m\u001b[0;34m)\u001b[0m\u001b[0;34m\u001b[0m\u001b[0;34m\u001b[0m\u001b[0m\n\u001b[0m\u001b[1;32m   3679\u001b[0m             \u001b[0mself\u001b[0m\u001b[0;34m.\u001b[0m\u001b[0m_root\u001b[0m\u001b[0;34m.\u001b[0m\u001b[0mtitle\u001b[0m\u001b[0;34m(\u001b[0m\u001b[0m_Screen\u001b[0m\u001b[0;34m.\u001b[0m\u001b[0m_title\u001b[0m\u001b[0;34m)\u001b[0m\u001b[0;34m\u001b[0m\u001b[0;34m\u001b[0m\u001b[0m\n\u001b[1;32m   3680\u001b[0m             \u001b[0mself\u001b[0m\u001b[0;34m.\u001b[0m\u001b[0m_root\u001b[0m\u001b[0;34m.\u001b[0m\u001b[0mondestroy\u001b[0m\u001b[0;34m(\u001b[0m\u001b[0mself\u001b[0m\u001b[0;34m.\u001b[0m\u001b[0m_destroy\u001b[0m\u001b[0;34m)\u001b[0m\u001b[0;34m\u001b[0m\u001b[0;34m\u001b[0m\u001b[0m\n",
      "\u001b[0;32m/usr/lib/python3.7/turtle.py\u001b[0m in \u001b[0;36m__init__\u001b[0;34m(self)\u001b[0m\n\u001b[1;32m    432\u001b[0m     \u001b[0;34m\"\"\"Root class for Screen based on Tkinter.\"\"\"\u001b[0m\u001b[0;34m\u001b[0m\u001b[0;34m\u001b[0m\u001b[0m\n\u001b[1;32m    433\u001b[0m     \u001b[0;32mdef\u001b[0m \u001b[0m__init__\u001b[0m\u001b[0;34m(\u001b[0m\u001b[0mself\u001b[0m\u001b[0;34m)\u001b[0m\u001b[0;34m:\u001b[0m\u001b[0;34m\u001b[0m\u001b[0;34m\u001b[0m\u001b[0m\n\u001b[0;32m--> 434\u001b[0;31m         \u001b[0mTK\u001b[0m\u001b[0;34m.\u001b[0m\u001b[0mTk\u001b[0m\u001b[0;34m.\u001b[0m\u001b[0m__init__\u001b[0m\u001b[0;34m(\u001b[0m\u001b[0mself\u001b[0m\u001b[0;34m)\u001b[0m\u001b[0;34m\u001b[0m\u001b[0;34m\u001b[0m\u001b[0m\n\u001b[0m\u001b[1;32m    435\u001b[0m \u001b[0;34m\u001b[0m\u001b[0m\n\u001b[1;32m    436\u001b[0m     \u001b[0;32mdef\u001b[0m \u001b[0msetupcanvas\u001b[0m\u001b[0;34m(\u001b[0m\u001b[0mself\u001b[0m\u001b[0;34m,\u001b[0m \u001b[0mwidth\u001b[0m\u001b[0;34m,\u001b[0m \u001b[0mheight\u001b[0m\u001b[0;34m,\u001b[0m \u001b[0mcwidth\u001b[0m\u001b[0;34m,\u001b[0m \u001b[0mcheight\u001b[0m\u001b[0;34m)\u001b[0m\u001b[0;34m:\u001b[0m\u001b[0;34m\u001b[0m\u001b[0;34m\u001b[0m\u001b[0m\n",
      "\u001b[0;32m/usr/lib/python3.7/tkinter/__init__.py\u001b[0m in \u001b[0;36m__init__\u001b[0;34m(self, screenName, baseName, className, useTk, sync, use)\u001b[0m\n\u001b[1;32m   2021\u001b[0m                 \u001b[0mbaseName\u001b[0m \u001b[0;34m=\u001b[0m \u001b[0mbaseName\u001b[0m \u001b[0;34m+\u001b[0m \u001b[0mext\u001b[0m\u001b[0;34m\u001b[0m\u001b[0;34m\u001b[0m\u001b[0m\n\u001b[1;32m   2022\u001b[0m         \u001b[0minteractive\u001b[0m \u001b[0;34m=\u001b[0m \u001b[0;36m0\u001b[0m\u001b[0;34m\u001b[0m\u001b[0;34m\u001b[0m\u001b[0m\n\u001b[0;32m-> 2023\u001b[0;31m         \u001b[0mself\u001b[0m\u001b[0;34m.\u001b[0m\u001b[0mtk\u001b[0m \u001b[0;34m=\u001b[0m \u001b[0m_tkinter\u001b[0m\u001b[0;34m.\u001b[0m\u001b[0mcreate\u001b[0m\u001b[0;34m(\u001b[0m\u001b[0mscreenName\u001b[0m\u001b[0;34m,\u001b[0m \u001b[0mbaseName\u001b[0m\u001b[0;34m,\u001b[0m \u001b[0mclassName\u001b[0m\u001b[0;34m,\u001b[0m \u001b[0minteractive\u001b[0m\u001b[0;34m,\u001b[0m \u001b[0mwantobjects\u001b[0m\u001b[0;34m,\u001b[0m \u001b[0museTk\u001b[0m\u001b[0;34m,\u001b[0m \u001b[0msync\u001b[0m\u001b[0;34m,\u001b[0m \u001b[0muse\u001b[0m\u001b[0;34m)\u001b[0m\u001b[0;34m\u001b[0m\u001b[0;34m\u001b[0m\u001b[0m\n\u001b[0m\u001b[1;32m   2024\u001b[0m         \u001b[0;32mif\u001b[0m \u001b[0museTk\u001b[0m\u001b[0;34m:\u001b[0m\u001b[0;34m\u001b[0m\u001b[0;34m\u001b[0m\u001b[0m\n\u001b[1;32m   2025\u001b[0m             \u001b[0mself\u001b[0m\u001b[0;34m.\u001b[0m\u001b[0m_loadtk\u001b[0m\u001b[0;34m(\u001b[0m\u001b[0;34m)\u001b[0m\u001b[0;34m\u001b[0m\u001b[0;34m\u001b[0m\u001b[0m\n",
      "\u001b[0;31mTclError\u001b[0m: no display name and no $DISPLAY environment variable"
     ]
    }
   ],
   "source": [
    "### 程序清单 1-5 OlympicSymbol.py\n",
    "import turtle\n",
    "\n",
    "turtle.color(\"blue\")\n",
    "turtle.penup()\n",
    "turtle.goto(-100, -25)\n",
    "turtle.pendown()\n",
    "turtle.circle(45)\n",
    "\n",
    "turtle.color(\"black\")\n",
    "turtle.penup()\n",
    "turtle.goto(0, -25)\n",
    "turtle.pendown()\n",
    "turtle.circle(45)\n",
    "\n",
    "turtle.color(\"red\")\n",
    "turtle.penup()\n",
    "turtle.goto(110, -25)\n",
    "turtle.pendown()\n",
    "turtle.circle(45)\n",
    "\n",
    "turtle.color(\"yellow\")\n",
    "turtle.penup()\n",
    "turtle.goto(-55, -75)\n",
    "turtle.pendown()\n",
    "turtle.circle(45)\n",
    "\n",
    "turtle.color(\"green\")\n",
    "turtle.penup()\n",
    "turtle.goto(55, -75)\n",
    "turtle.pendown()\n",
    "turtle.circle(45)\n",
    "\n",
    "turtle.done()"
   ]
  }
 ],
 "metadata": {
  "celltoolbar": "Initialization Cell",
  "hide_input": false,
  "kernelspec": {
   "display_name": "Python 3",
   "language": "python",
   "name": "python3"
  },
  "language_info": {
   "codemirror_mode": {
    "name": "ipython",
    "version": 3
   },
   "file_extension": ".py",
   "mimetype": "text/x-python",
   "name": "python",
   "nbconvert_exporter": "python",
   "pygments_lexer": "ipython3",
   "version": "3.7.5rc1"
  },
  "latex_envs": {
   "LaTeX_envs_menu_present": true,
   "autoclose": false,
   "autocomplete": true,
   "bibliofile": "biblio.bib",
   "cite_by": "apalike",
   "current_citInitial": 1,
   "eqLabelWithNumbers": true,
   "eqNumInitial": 1,
   "hotkeys": {
    "equation": "Ctrl-E",
    "itemize": "Ctrl-I"
   },
   "labels_anchors": false,
   "latex_user_defs": false,
   "report_style_numbering": false,
   "user_envs_cfg": false
  },
  "nbTranslate": {
   "displayLangs": [
    "*"
   ],
   "hotkey": "alt-t",
   "langInMainMenu": true,
   "sourceLang": "en",
   "targetLang": "fr",
   "useGoogleTranslate": true
  },
  "notify_time": "5",
  "toc": {
   "base_numbering": 1,
   "nav_menu": {},
   "number_sections": true,
   "sideBar": true,
   "skip_h1_title": false,
   "title_cell": "Table of Contents",
   "title_sidebar": "Contents",
   "toc_cell": false,
   "toc_position": {
    "height": "calc(100% - 180px)",
    "left": "10px",
    "top": "150px",
    "width": "512px"
   },
   "toc_section_display": true,
   "toc_window_display": true
  },
  "varInspector": {
   "cols": {
    "lenName": 16,
    "lenType": 16,
    "lenVar": 40
   },
   "kernels_config": {
    "python": {
     "delete_cmd_postfix": "",
     "delete_cmd_prefix": "del ",
     "library": "var_list.py",
     "varRefreshCmd": "print(var_dic_list())"
    },
    "r": {
     "delete_cmd_postfix": ") ",
     "delete_cmd_prefix": "rm(",
     "library": "var_list.r",
     "varRefreshCmd": "cat(var_dic_list()) "
    }
   },
   "position": {
    "height": "144px",
    "left": "2212px",
    "right": "20px",
    "top": "189px",
    "width": "350px"
   },
   "types_to_exclude": [
    "module",
    "function",
    "builtin_function_or_method",
    "instance",
    "_Feature"
   ],
   "window_display": true
  }
 },
 "nbformat": 4,
 "nbformat_minor": 4
}
