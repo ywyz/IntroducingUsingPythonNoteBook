{
 "cells": [
  {
   "cell_type": "markdown",
   "metadata": {
    "solution2": "hidden",
    "solution2_first": true
   },
   "source": [
    "1.1 (显示三个不同的消息） 编写程序显示“Welcome to Python”、“Welcome to Computer Science”、“Programming is fun”"
   ]
  },
  {
   "cell_type": "markdown",
   "metadata": {
    "solution2": "hidden"
   },
   "source": [
    "难易程度：简单（零星）\n",
    "    \n",
    "思考：\n",
    "    \n",
    "      使用print()函数。\n",
    "\n",
    "注意点：\n",
    "\n",
    "    1.函数内需要英文双引号\n",
    "\n",
    "    2.注意缩进格式（无缩进）"
   ]
  },
  {
   "cell_type": "code",
   "execution_count": null,
   "metadata": {
    "solution2": "hidden"
   },
   "outputs": [],
   "source": [
    "print(\"Welcome to Python\")\n",
    "print(\"Welcome to Computer Science\")\n",
    "print(\"Programming is fun\")"
   ]
  },
  {
   "cell_type": "markdown",
   "metadata": {
    "solution2": "hidden",
    "solution2_first": true
   },
   "source": [
    "1.2（显示同样的消息五次）编写程序显示“Welcome to Python”五次。"
   ]
  },
  {
   "cell_type": "markdown",
   "metadata": {
    "solution2": "hidden"
   },
   "source": [
    "难易程度：\n",
    "    简单（零星）\n",
    "    \n",
    "思考：\n",
    "\n",
    "    使用五次print（）函数\n",
    "注意点：\n",
    "     \n",
    "    1.函数内需要英文双引号\n",
    "\n",
    "    2.注意缩进格式（无缩进）\n"
   ]
  },
  {
   "cell_type": "code",
   "execution_count": 2,
   "metadata": {
    "ExecuteTime": {
     "end_time": "2019-11-19T13:16:09.385440Z",
     "start_time": "2019-11-19T13:16:09.376576Z"
    },
    "solution2": "hidden"
   },
   "outputs": [
    {
     "name": "stdout",
     "output_type": "stream",
     "text": [
      "Welcome to Python\n",
      "Welcome to Python\n",
      "Welcome to Python\n",
      "Welcome to Python\n",
      "Welcome to Python\n"
     ]
    }
   ],
   "source": [
    "print(\"Welcome to Python\")\n",
    "print(\"Welcome to Python\")\n",
    "print(\"Welcome to Python\")\n",
    "print(\"Welcome to Python\")\n",
    "print(\"Welcome to Python\")"
   ]
  },
  {
   "cell_type": "markdown",
   "metadata": {
    "solution2": "hidden",
    "solution2_first": true
   },
   "source": [
    "1.3 （显示一种模式） 编写程序显示下面的模式\n",
    "\n",
    "ＦＦＦＦＦＦ　　Ｕ　　　　　Ｕ　　Ｎ　　　　　Ｎ\n",
    "\n",
    "ＦＦ　　　　　　Ｕ　　　　　Ｕ　　Ｎ　Ｎ　　　Ｎ\n",
    "\n",
    "ＦＦＦＦＦＦ　　Ｕ　　　　　Ｕ　　Ｎ　　Ｎ　　Ｎ\n",
    "\n",
    "ＦＦ　　　　　　　Ｕ　　　Ｕ　　　Ｎ　　　Ｎ　Ｎ\n",
    "\n",
    "ＦＦ　　　　　　　　ＵＵＵ　　　　Ｎ　　　　ＮＮ"
   ]
  },
  {
   "cell_type": "markdown",
   "metadata": {
    "solution2": "hidden"
   },
   "source": [
    "难易程度：\n",
    "容易（一星）\n",
    "\n",
    "思考：\n",
    "    \n",
    "    使用print()函数分行打印\n",
    "\n",
    "注意点：\n",
    "    \n",
    "    输出时需要多次尝试才能得到最佳结果"
   ]
  },
  {
   "cell_type": "code",
   "execution_count": 4,
   "metadata": {
    "ExecuteTime": {
     "end_time": "2019-11-19T13:32:26.747072Z",
     "start_time": "2019-11-19T13:32:26.737375Z"
    },
    "solution2": "hidden"
   },
   "outputs": [
    {
     "name": "stdout",
     "output_type": "stream",
     "text": [
      "FFFFFFF     U  　  U      NN      NN\n",
      "FF          U    　U      N  N    NN\n",
      "FFFFFFF     U   　 U      N   N   NN\n",
      "FF          　U 　U      　N    N  NN\n",
      "FF           　UUU        N      NNN  \n"
     ]
    }
   ],
   "source": [
    "print(\"FFFFFFF     U  　  U      NN      NN\")\n",
    "print(\"FF          U    　U      N  N    NN\")\n",
    "print(\"FFFFFFF     U   　 U      N   N   NN\")\n",
    "print(\"FF          　U 　U      　N    N  NN\")\n",
    "print(\"FF           　UUU        N      NNN  \")"
   ]
  },
  {
   "cell_type": "markdown",
   "metadata": {
    "run_control": {
     "marked": false
    },
    "solution2": "hidden",
    "solution2_first": true
   },
   "source": [
    "1.4 (打印表格) 编写程序显示下面的表格\n",
    "\n",
    "a　　　　　　a^2　　　　　　a^3\n",
    "\n",
    "1　　　　　　　1　 　　　　　 　1\n",
    "\n",
    "2　　　　　　　4　　　　 　 　　8\n",
    "\n",
    "3　　　　　　　9　　　　　　　27\n",
    "\n",
    "4　　　 　　　16　　　　　 　　64\n"
   ]
  },
  {
   "cell_type": "markdown",
   "metadata": {
    "solution2": "hidden"
   },
   "source": [
    "难易程度：简单（零星）\n",
    "\n",
    "思考：\n",
    "\n",
    "    使用print()函数打印每一行， 数字之间间隔要一样\n",
    "    \n",
    "注意点：\n",
    "\n",
    "    打印时间隔一致， 打印内容都要在print()函数中双引号里面。"
   ]
  },
  {
   "cell_type": "code",
   "execution_count": 5,
   "metadata": {
    "ExecuteTime": {
     "end_time": "2019-11-20T04:57:13.325262Z",
     "start_time": "2019-11-20T04:57:13.313626Z"
    },
    "solution2": "hidden"
   },
   "outputs": [
    {
     "name": "stdout",
     "output_type": "stream",
     "text": [
      "a     a^2     a^3\n",
      "1     1       1\n",
      "2     4       8\n",
      "3     9       27\n",
      "4     16      64\n"
     ]
    }
   ],
   "source": [
    "print(\"a     a^2     a^3\")\n",
    "print(\"1     1       1\")\n",
    "print(\"2     4       8\")\n",
    "print(\"3     9       27\")\n",
    "print(\"4     16      64\")\n"
   ]
  },
  {
   "cell_type": "markdown",
   "metadata": {
    "solution2": "hidden",
    "solution2_first": true
   },
   "source": [
    "1.5 (计算表达式) 编写程序显示下面表达式的结果。\n",
    "\n",
    "$$\\frac{9.5 \\times 4.5 - 2.5 \\times 3}{45.5 - 3.5}$$\n",
    "   "
   ]
  },
  {
   "cell_type": "markdown",
   "metadata": {
    "solution2": "hidden"
   },
   "source": [
    "难易程度：简单（零星）\n",
    "\n",
    "思考：\n",
    "\n",
    "    print()函数内部插入算式即可。\n",
    "\n",
    "注意点：\n",
    "\n",
    "    1. 输出答案的print()函数内部不需要插入引号。\n",
    "    2.注意算式中的优先级。"
   ]
  },
  {
   "cell_type": "code",
   "execution_count": 7,
   "metadata": {
    "ExecuteTime": {
     "end_time": "2019-11-20T05:24:36.024090Z",
     "start_time": "2019-11-20T05:24:36.018634Z"
    },
    "solution2": "hidden"
   },
   "outputs": [
    {
     "name": "stdout",
     "output_type": "stream",
     "text": [
      "0.8392857142857143\n"
     ]
    }
   ],
   "source": [
    "print(((9.5 * 4.5) - 2.5 * 3) / (45.5 - 3.5))"
   ]
  },
  {
   "cell_type": "markdown",
   "metadata": {
    "solution2": "hidden",
    "solution2_first": true
   },
   "source": [
    "1.6 (级数求和)编写程序显示1+2+3+4+5+6+7+8+9的和"
   ]
  },
  {
   "cell_type": "markdown",
   "metadata": {
    "solution2": "hidden"
   },
   "source": [
    "难易程度：简单（零星）\n",
    "\n",
    "思考：\n",
    "\n",
    "    print()函数内部插入算式即可。\n",
    "\n",
    "注意点：\n",
    "\n",
    "    1. 输出答案的print()函数内部不需要插入引号。"
   ]
  },
  {
   "cell_type": "code",
   "execution_count": 8,
   "metadata": {
    "ExecuteTime": {
     "end_time": "2019-11-20T05:28:54.394729Z",
     "start_time": "2019-11-20T05:28:54.385616Z"
    },
    "solution2": "hidden"
   },
   "outputs": [
    {
     "name": "stdout",
     "output_type": "stream",
     "text": [
      "45\n"
     ]
    }
   ],
   "source": [
    "print(1 + 2 + 3 + 4 + 5 + 6 + 7 + 8 + 9)"
   ]
  },
  {
   "cell_type": "markdown",
   "metadata": {
    "solution2": "hidden",
    "solution2_first": true
   },
   "source": [
    "1.7 (近似$\\pi$) 可以使用下面的公式计算$\\pi= 4 \\times (1 - \\frac{1}{3} + \\frac{1}{5} -\\frac{1}{7} + \\frac{1}{9} - \\frac{1}{11} + ...)$\n",
    "\n",
    "编写程序显示$4 \\times (1 - \\frac{1}{3} + \\frac{1}{5} -\\frac{1}{7} + \\frac{1}{9} - \\frac{1}{11})$ 和$4 \\times (1 - \\frac{1}{3} + \\frac{1}{5} -\\frac{1}{7} + \\frac{1}{9} - \\frac{1}{11} + \\frac{1}{13} - \\frac{1}{15})$ "
   ]
  },
  {
   "cell_type": "markdown",
   "metadata": {
    "solution2": "hidden"
   },
   "source": [
    "难易程度：简单（零星）\n",
    "\n",
    "思考：\n",
    "\n",
    "    使用print()函数直接计算\n",
    "\n",
    "注意点：\n",
    "\n",
    "    算式中有一个4，最后*4"
   ]
  },
  {
   "cell_type": "code",
   "execution_count": 9,
   "metadata": {
    "ExecuteTime": {
     "end_time": "2019-11-20T05:44:41.322784Z",
     "start_time": "2019-11-20T05:44:41.313144Z"
    },
    "solution2": "hidden"
   },
   "outputs": [
    {
     "name": "stdout",
     "output_type": "stream",
     "text": [
      "2.9760461760461765\n",
      "3.017071817071818\n"
     ]
    }
   ],
   "source": [
    "print(4 * (1 - 1 / 3 + 1 / 5 - 1 / 7 + 1 / 9 - 1 / 11))\n",
    "print(4 * (1 - 1 / 3 + 1 / 5 - 1 / 7 + 1 / 9 - 1 / 11 + 1 / 13 - 1 / 15))"
   ]
  },
  {
   "cell_type": "markdown",
   "metadata": {
    "solution2": "hidden",
    "solution2_first": true
   },
   "source": [
    "1.8 (圆的面积和周长) 使用下面的公式编写程序，显示半径是5.5的圆的面积和周长。\n",
    "    $$area = radius \\times radius \\times \\pi$$\n",
    "    $$perimeter = 2 \\times radius \\times \\pi$$"
   ]
  },
  {
   "cell_type": "markdown",
   "metadata": {
    "solution2": "hidden"
   },
   "source": [
    "难易程度：简单（零星）\n",
    "\n",
    "思考：\n",
    "\n",
    "    使用print()函数直接计算\n",
    "\n",
    "注意点：\n",
    "\n",
    "    面积用半径的平方计算"
   ]
  },
  {
   "cell_type": "code",
   "execution_count": 10,
   "metadata": {
    "ExecuteTime": {
     "end_time": "2019-11-20T05:52:14.993341Z",
     "start_time": "2019-11-20T05:52:14.984964Z"
    },
    "solution2": "hidden"
   },
   "outputs": [
    {
     "name": "stdout",
     "output_type": "stream",
     "text": [
      "95.033177770795\n",
      "34.55751918938\n"
     ]
    }
   ],
   "source": [
    "print(5.5 * 5.5 * 3.14159265358)\n",
    "print(5.5 * 2 * 3.14159265358)\n"
   ]
  },
  {
   "cell_type": "markdown",
   "metadata": {
    "solution2": "hidden",
    "solution2_first": true
   },
   "source": [
    "1.9 (矩形的面积和周长)　使用下面的公式编写程序，显示宽度4.5而高为7.9的矩形的面积和周长。\n",
    "$$area = width \\times height$$"
   ]
  },
  {
   "cell_type": "markdown",
   "metadata": {
    "run_control": {
     "marked": true
    },
    "solution2": "hidden"
   },
   "source": [
    "难易程度：简单（零星）\n",
    "\n",
    "思考：\n",
    "\n",
    "    使用print()函数直接计算"
   ]
  },
  {
   "cell_type": "code",
   "execution_count": 1,
   "metadata": {
    "ExecuteTime": {
     "end_time": "2019-11-20T10:08:30.640620Z",
     "start_time": "2019-11-20T10:08:30.631552Z"
    },
    "solution2": "hidden"
   },
   "outputs": [
    {
     "name": "stdout",
     "output_type": "stream",
     "text": [
      "35.550000000000004\n"
     ]
    }
   ],
   "source": [
    "print(4.5 * 7.9)"
   ]
  },
  {
   "cell_type": "markdown",
   "metadata": {
    "solution2": "hidden",
    "solution2_first": true
   },
   "source": [
    "1.10 (平均速度) 假设一个人在45分30秒内跑了14公里，编写程序显示每小时的平均速度是多少英里。(注意：1英里是1.6公里)"
   ]
  },
  {
   "cell_type": "markdown",
   "metadata": {
    "solution2": "hidden"
   },
   "source": [
    "难易程度：简单（零星）\n",
    "\n",
    "思考：\n",
    "\n",
    "    目标：计算每小时平均速度（英里）\n",
    "    1. 14 / 1.6 （将公里转换为英里）\n",
    "    2. 45.5 / 60 （将分钟数转换为小时）\n",
    "    3. 将获得的英里数除以小时数获得速度\n",
    "\n",
    "注意点：\n",
    "\n",
    "    速度计算公式是长度除以时间"
   ]
  },
  {
   "cell_type": "code",
   "execution_count": 2,
   "metadata": {
    "ExecuteTime": {
     "end_time": "2019-11-20T11:18:45.646116Z",
     "start_time": "2019-11-20T11:18:45.636534Z"
    },
    "solution2": "hidden"
   },
   "outputs": [
    {
     "name": "stdout",
     "output_type": "stream",
     "text": [
      "11.538461538461538\n"
     ]
    }
   ],
   "source": [
    "print((14 / 1.6) / (45.5 / 60))"
   ]
  },
  {
   "cell_type": "markdown",
   "metadata": {
    "solution2": "hidden",
    "solution2_first": true
   },
   "source": [
    "1.11(人口预测) 美国人口普查局基于下面的假设来预测人口：\n",
    "\n",
    "每7秒1人出生\n",
    "\n",
    "每13秒1人死亡\n",
    "\n",
    "每45秒1个新移民\n",
    "\n",
    "　　编写程序显示接下来5年的每一年的人口。 假设当前的人口数是3 120 324 986， 每年有365天。提示，在Python中，可以使用整数除法运算符//来完成除法运算。它的结果是一个整数。例如：5 // 4是1（而不是1.25）， 10 // 4 是2（而不是2.5）."
   ]
  },
  {
   "cell_type": "markdown",
   "metadata": {
    "solution2": "hidden"
   },
   "source": [
    "难易程度：简单（一星）\n",
    "\n",
    "思考：\n",
    "\n",
    "    目标：计算未来五年每一年的人数\n",
    "    每一年增加的人数为固定值\n",
    "    1.计算每一年增加的人数\n",
    "    2.目前总人数加（年数 × 每一年增加的人数）\n",
    "\n",
    "注意点：\n",
    "\n",
    "    Python中整除用//运算符"
   ]
  },
  {
   "cell_type": "code",
   "execution_count": 5,
   "metadata": {
    "ExecuteTime": {
     "end_time": "2019-11-21T09:16:52.127092Z",
     "start_time": "2019-11-21T09:16:52.115226Z"
    },
    "solution2": "hidden"
   },
   "outputs": [
    {
     "name": "stdout",
     "output_type": "stream",
     "text": [
      "The first year:  3123105082\n",
      "The second year:  3125885178\n",
      "The third year:  3128665274\n",
      "The fourth year:  3138628570\n",
      "The fifth year:  3148591866\n"
     ]
    }
   ],
   "source": [
    "time = 365 * 24 * 60 * 60\n",
    "ft = 3120324986 + time // 7 - time // 13 + time // 45       # First year\n",
    "print(\"The first year: \", ft)\n",
    "sd = ft + time // 7 - time // 13 + time // 45              # Second year\n",
    "print(\"The second year: \", sd)\n",
    "td = sd + time // 7 - time // 13 + time // 45            # Third year\n",
    "print(\"The third year: \", td)\n",
    "fh = td + time // 7 - time // 13 + time // 4              # Fouth year\n",
    "print(\"The fourth year: \", fh)\n",
    "ft = fh + time // 7 - time // 13 + time // 4               # Fifth year\n",
    "print(\"The fifth year: \", ft)"
   ]
  },
  {
   "cell_type": "markdown",
   "metadata": {
    "solution2": "hidden",
    "solution2_first": true
   },
   "source": [
    "1.12（Turtle: 绘制正方形）编写程序在屏幕中心绘制正方形。"
   ]
  },
  {
   "cell_type": "markdown",
   "metadata": {
    "ExecuteTime": {
     "end_time": "2019-11-21T09:16:46.449432Z",
     "start_time": "2019-11-21T09:16:46.442684Z"
    },
    "run_control": {
     "marked": true
    },
    "solution2": "hidden"
   },
   "source": [
    "难易程度：简单（零星）\n",
    "\n",
    "思考：\n",
    "\n",
    "    目标：绘制正方形和中间的十字\n",
    "    1.绘制正方形\n",
    "    2.绘制正方形中间的十字   \n",
    "\n",
    "算法：\n",
    "    \n",
    "    turtle绘制一个正方形（向前一定距离右转90度）\n",
    "    抬笔到横向中点位置\n",
    "    放笔画线\n",
    "    抬笔到下面中点位置\n",
    "    放笔画到中心位置\n",
    "    抬笔到上面中点位置\n",
    "    放笔画到中心位置\n",
    "    \n",
    "注意点：\n",
    "\n",
    "    在移动时注意要抬笔"
   ]
  },
  {
   "cell_type": "code",
   "execution_count": null,
   "metadata": {
    "solution2": "hidden"
   },
   "outputs": [],
   "source": [
    "import turtle\n",
    "\n",
    "turtle.penup()\n",
    "turtle.goto(-50, 50)\n",
    "turtle.pendown()\n",
    "turtle.fd(100)\n",
    "turtle.right(90)\n",
    "turtle.fd(100)\n",
    "turtle.right(90)\n",
    "turtle.fd(100)\n",
    "turtle.right(90)\n",
    "turtle.fd(100)\n",
    "turtle.right(90)\n",
    "turtle.penup()\n",
    "turtle.goto(-50, 0)\n",
    "turtle.pendown()\n",
    "turtle.forward(100)\n",
    "turtle.penup()\n",
    "turtle.goto(0, -50)\n",
    "turtle.pendown()\n",
    "turtle.left(90)\n",
    "turtle.forward(50)\n",
    "turtle.penup()\n",
    "turtle.goto(0, 50)\n",
    "turtle.right(180)\n",
    "turtle.pendown()\n",
    "turtle.forward(50)\n",
    "\n",
    "turtle.done()"
   ]
  },
  {
   "cell_type": "markdown",
   "metadata": {},
   "source": [
    "1.13 （Turtle: 绘制十字）编写程序绘制十字"
   ]
  },
  {
   "cell_type": "markdown",
   "metadata": {},
   "source": [
    "难易程度：简单（零星）\n",
    "\n",
    "思考：\n",
    "\n",
    "    目标：十字\n",
    "    1.绘制横线\n",
    "    2.绘制竖线\n",
    "\n",
    "算法：\n",
    "    \n",
    "    turtle绘制一条横线\n",
    "    \n",
    "注意点：\n"
   ]
  }
 ],
 "metadata": {
  "author": "time",
  "hide_input": false,
  "kernelspec": {
   "display_name": "Python 3",
   "language": "python",
   "name": "python3"
  },
  "language_info": {
   "codemirror_mode": {
    "name": "ipython",
    "version": 3
   },
   "file_extension": ".py",
   "mimetype": "text/x-python",
   "name": "python",
   "nbconvert_exporter": "python",
   "pygments_lexer": "ipython3",
   "version": "3.7.5rc1"
  },
  "latex_envs": {
   "LaTeX_envs_menu_present": true,
   "autoclose": false,
   "autocomplete": true,
   "bibliofile": "biblio.bib",
   "cite_by": "apalike",
   "current_citInitial": 1,
   "eqLabelWithNumbers": true,
   "eqNumInitial": 1,
   "hotkeys": {
    "equation": "Ctrl-E",
    "itemize": "Ctrl-I"
   },
   "labels_anchors": false,
   "latex_user_defs": false,
   "report_style_numbering": false,
   "user_envs_cfg": false
  },
  "nbTranslate": {
   "displayLangs": [
    "*"
   ],
   "hotkey": "alt-t",
   "langInMainMenu": true,
   "sourceLang": "en",
   "targetLang": "fr",
   "useGoogleTranslate": true
  },
  "toc": {
   "base_numbering": 1,
   "nav_menu": {},
   "number_sections": true,
   "sideBar": true,
   "skip_h1_title": false,
   "title_cell": "Table of Contents",
   "title_sidebar": "Contents",
   "toc_cell": false,
   "toc_position": {},
   "toc_section_display": true,
   "toc_window_display": false
  },
  "varInspector": {
   "cols": {
    "lenName": 16,
    "lenType": 16,
    "lenVar": 40
   },
   "kernels_config": {
    "python": {
     "delete_cmd_postfix": "",
     "delete_cmd_prefix": "del ",
     "library": "var_list.py",
     "varRefreshCmd": "print(var_dic_list())"
    },
    "r": {
     "delete_cmd_postfix": ") ",
     "delete_cmd_prefix": "rm(",
     "library": "var_list.r",
     "varRefreshCmd": "cat(var_dic_list()) "
    }
   },
   "oldHeight": 122.31200000000001,
   "position": {
    "height": "40px",
    "left": "890.453px",
    "right": "20px",
    "top": "120px",
    "width": "250px"
   },
   "types_to_exclude": [
    "module",
    "function",
    "builtin_function_or_method",
    "instance",
    "_Feature"
   ],
   "varInspector_section_display": "none",
   "window_display": true
  }
 },
 "nbformat": 4,
 "nbformat_minor": 2
}
