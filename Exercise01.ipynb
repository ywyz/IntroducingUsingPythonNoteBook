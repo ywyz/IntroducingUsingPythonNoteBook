{
 "cells": [
  {
   "cell_type": "markdown",
   "metadata": {
    "solution2": "hidden",
    "solution2_first": true
   },
   "source": [
    "1.1 (显示三个不同的消息） 编写程序显示“Welcome to Python”、“Welcome to Computer Science”、“Programming is fun”"
   ]
  },
  {
   "cell_type": "markdown",
   "metadata": {
    "solution2": "hidden"
   },
   "source": [
    "难易程度：简单（零星）\n",
    "    \n",
    "思考：\n",
    "    \n",
    "      使用print()函数。\n",
    "\n",
    "注意点：\n",
    "\n",
    "    1.函数内需要英文双引号\n",
    "\n",
    "    2.注意缩进格式（无缩进）"
   ]
  },
  {
   "cell_type": "code",
   "execution_count": null,
   "metadata": {
    "solution2": "hidden"
   },
   "outputs": [],
   "source": [
    "print(\"Welcome to Python\")\n",
    "print(\"Welcome to Computer Science\")\n",
    "print(\"Programming is fun\")"
   ]
  },
  {
   "cell_type": "markdown",
   "metadata": {
    "solution2": "hidden",
    "solution2_first": true
   },
   "source": [
    "1.2（显示同样的消息五次）编写程序显示“Welcome to Python”五次。"
   ]
  },
  {
   "cell_type": "markdown",
   "metadata": {
    "solution2": "hidden"
   },
   "source": [
    "难易程度：\n",
    "    简单（零星）\n",
    "    \n",
    "思考：\n",
    "\n",
    "    使用五次print（）函数\n",
    "注意点：\n",
    "     \n",
    "    1.函数内需要英文双引号\n",
    "\n",
    "    2.注意缩进格式（无缩进）\n"
   ]
  },
  {
   "cell_type": "code",
   "execution_count": 2,
   "metadata": {
    "ExecuteTime": {
     "end_time": "2019-11-19T13:16:09.385440Z",
     "start_time": "2019-11-19T13:16:09.376576Z"
    },
    "solution2": "hidden"
   },
   "outputs": [
    {
     "name": "stdout",
     "output_type": "stream",
     "text": [
      "Welcome to Python\n",
      "Welcome to Python\n",
      "Welcome to Python\n",
      "Welcome to Python\n",
      "Welcome to Python\n"
     ]
    }
   ],
   "source": [
    "print(\"Welcome to Python\")\n",
    "print(\"Welcome to Python\")\n",
    "print(\"Welcome to Python\")\n",
    "print(\"Welcome to Python\")\n",
    "print(\"Welcome to Python\")"
   ]
  },
  {
   "cell_type": "markdown",
   "metadata": {},
   "source": [
    "1.3 （显示一种模式） 编写程序显示下面的模式\n",
    "\n",
    "ＦＦＦＦＦＦ　　Ｕ　　　　　Ｕ　　Ｎ　　　　　Ｎ\n",
    "\n",
    "ＦＦ　　　　　　Ｕ　　　　　Ｕ　　Ｎ　Ｎ　　　Ｎ\n",
    "\n",
    "ＦＦＦＦＦＦ　　Ｕ　　　　　Ｕ　　Ｎ　　Ｎ　　Ｎ\n",
    "\n",
    "ＦＦ　　　　　　　Ｕ　　　Ｕ　　　Ｎ　　　Ｎ　Ｎ\n",
    "\n",
    "ＦＦ　　　　　　　　ＵＵＵ　　　　Ｎ　　　　ＮＮ"
   ]
  },
  {
   "cell_type": "markdown",
   "metadata": {},
   "source": [
    "难易程度：\n",
    "容易（一星）\n",
    "\n",
    "思考：\n",
    "    \n",
    "    使用print()函数分行打印\n",
    "\n",
    "注意点：\n",
    "    \n",
    "    输出时需要多次尝试才能得到最佳结果"
   ]
  },
  {
   "cell_type": "code",
   "execution_count": 4,
   "metadata": {
    "ExecuteTime": {
     "end_time": "2019-11-19T13:32:26.747072Z",
     "start_time": "2019-11-19T13:32:26.737375Z"
    }
   },
   "outputs": [
    {
     "name": "stdout",
     "output_type": "stream",
     "text": [
      "FFFFFFF     U  　  U      NN      NN\n",
      "FF          U    　U      N  N    NN\n",
      "FFFFFFF     U   　 U      N   N   NN\n",
      "FF          　U 　U      　N    N  NN\n",
      "FF           　UUU        N      NNN  \n"
     ]
    }
   ],
   "source": [
    "print(\"FFFFFFF     U  　  U      NN      NN\")\n",
    "print(\"FF          U    　U      N  N    NN\")\n",
    "print(\"FFFFFFF     U   　 U      N   N   NN\")\n",
    "print(\"FF          　U 　U      　N    N  NN\")\n",
    "print(\"FF           　UUU        N      NNN  \")"
   ]
  },
  {
   "cell_type": "code",
   "execution_count": null,
   "metadata": {},
   "outputs": [],
   "source": []
  }
 ],
 "metadata": {
  "hide_input": false,
  "kernelspec": {
   "display_name": "Python 3",
   "language": "python",
   "name": "python3"
  },
  "language_info": {
   "codemirror_mode": {
    "name": "ipython",
    "version": 3
   },
   "file_extension": ".py",
   "mimetype": "text/x-python",
   "name": "python",
   "nbconvert_exporter": "python",
   "pygments_lexer": "ipython3",
   "version": "3.7.5rc1"
  },
  "latex_envs": {
   "LaTeX_envs_menu_present": true,
   "autoclose": false,
   "autocomplete": true,
   "bibliofile": "biblio.bib",
   "cite_by": "apalike",
   "current_citInitial": 1,
   "eqLabelWithNumbers": true,
   "eqNumInitial": 1,
   "hotkeys": {
    "equation": "Ctrl-E",
    "itemize": "Ctrl-I"
   },
   "labels_anchors": false,
   "latex_user_defs": false,
   "report_style_numbering": false,
   "user_envs_cfg": false
  },
  "nbTranslate": {
   "displayLangs": [
    "*"
   ],
   "hotkey": "alt-t",
   "langInMainMenu": true,
   "sourceLang": "en",
   "targetLang": "fr",
   "useGoogleTranslate": true
  },
  "toc": {
   "base_numbering": 1,
   "nav_menu": {},
   "number_sections": true,
   "sideBar": true,
   "skip_h1_title": false,
   "title_cell": "Table of Contents",
   "title_sidebar": "Contents",
   "toc_cell": false,
   "toc_position": {},
   "toc_section_display": true,
   "toc_window_display": false
  },
  "varInspector": {
   "cols": {
    "lenName": 16,
    "lenType": 16,
    "lenVar": 40
   },
   "kernels_config": {
    "python": {
     "delete_cmd_postfix": "",
     "delete_cmd_prefix": "del ",
     "library": "var_list.py",
     "varRefreshCmd": "print(var_dic_list())"
    },
    "r": {
     "delete_cmd_postfix": ") ",
     "delete_cmd_prefix": "rm(",
     "library": "var_list.r",
     "varRefreshCmd": "cat(var_dic_list()) "
    }
   },
   "types_to_exclude": [
    "module",
    "function",
    "builtin_function_or_method",
    "instance",
    "_Feature"
   ],
   "window_display": true
  }
 },
 "nbformat": 4,
 "nbformat_minor": 2
}
