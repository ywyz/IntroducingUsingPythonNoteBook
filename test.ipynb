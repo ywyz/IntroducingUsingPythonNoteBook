{
 "cells": [
  {
   "cell_type": "code",
   "execution_count": 5,
   "metadata": {},
   "outputs": [
    {
     "name": "stdout",
     "output_type": "stream",
     "text": [
      "  p       2^p-1\n",
      "  2         3\n",
      "  3         7\n",
      "  5        31\n",
      "  7       127\n",
      " 13      8191\n",
      " 17    131071\n",
      " 19    524287\n",
      " 31 2147483647\n"
     ]
    }
   ],
   "source": [
    "def primeNumber(n):\n",
    "    for temp in range(2, n // 2):\n",
    "        if n % temp == 0:\n",
    "            return False\n",
    "\n",
    "    return True\n",
    "\n",
    "\n",
    "def mersennePrimeNumber(n):\n",
    "    prime = 2**n - 1\n",
    "    if primeNumber(prime):\n",
    "        return prime\n",
    "    else:\n",
    "        return False\n",
    "\n",
    "\n",
    "def main():\n",
    "    print(\"  p       2^p-1\")\n",
    "    for p in range(2, 33):\n",
    "        if mersennePrimeNumber(p):\n",
    "            print(format(p, \"3d\"), format(mersennePrimeNumber(p), \"9d\"))\n",
    "\n",
    "\n",
    "main()\n"
   ]
  },
  {
   "cell_type": "code",
   "execution_count": 3,
   "metadata": {},
   "outputs": [
    {
     "name": "stdout",
     "output_type": "stream",
     "text": [
      "2 \t 3\n",
      "3 \t 7\n",
      "5 \t 31\n",
      "7 \t 127\n",
      "13 \t 8191\n",
      "17 \t 131071\n",
      "19 \t 524287\n",
      "31 \t 2147483647\n",
      "Time spent is 181.1971344947815 milliseconds\n"
     ]
    }
   ],
   "source": [
    "import time\n",
    "\n",
    "def main():\n",
    "    beginTime = time.time()\n",
    "    \n",
    "    for p in range(2, 31 + 1):\n",
    "      i = 2 ** p - 1\n",
    "\n",
    "      # Display each number in five positions\n",
    "      if isPrime(i):\n",
    "          print(p, \"\\t\", i)\n",
    "\n",
    "    endTime = time.time()\n",
    "    print(\"Time spent is\", endTime - beginTime, \"milliseconds\")\n",
    "\n",
    "def isPrime(number):\n",
    "    divisor = 2\n",
    "    while divisor <= number / 2:\n",
    "        if number % divisor == 0:\n",
    "            # If true, number is not prime\n",
    "            return False # number is not a prime\n",
    "        divisor += 1\n",
    "\n",
    "    return True # number is prime\n",
    "\n",
    "# Return the reversal of an integer, i.e. reverse(456) returns 654\n",
    "def reverse(number):\n",
    "    result = 0\n",
    "    while number != 0:\n",
    "        remainder = number % 10\n",
    "        result = result * 10 + remainder\n",
    "        number = number // 10\n",
    "\n",
    "    return result\n",
    "\n",
    "main()\n"
   ]
  },
  {
   "cell_type": "code",
   "execution_count": null,
   "metadata": {},
   "outputs": [],
   "source": []
  },
  {
   "cell_type": "code",
   "execution_count": null,
   "metadata": {},
   "outputs": [],
   "source": []
  }
 ],
 "metadata": {
  "kernelspec": {
   "display_name": "Python 3",
   "language": "python",
   "name": "python3"
  },
  "language_info": {
   "codemirror_mode": {
    "name": "ipython",
    "version": 3
   },
   "file_extension": ".py",
   "mimetype": "text/x-python",
   "name": "python",
   "nbconvert_exporter": "python",
   "pygments_lexer": "ipython3",
   "version": "3.7.5rc1"
  }
 },
 "nbformat": 4,
 "nbformat_minor": 4
}
